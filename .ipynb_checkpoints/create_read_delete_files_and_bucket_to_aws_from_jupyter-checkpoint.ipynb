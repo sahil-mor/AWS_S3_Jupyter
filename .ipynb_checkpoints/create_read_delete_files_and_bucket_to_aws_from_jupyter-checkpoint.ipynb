{
 "cells": [
  {
   "cell_type": "code",
   "execution_count": null,
   "metadata": {},
   "outputs": [
    {
     "name": "stdout",
     "output_type": "stream",
     "text": [
      "Requirement already satisfied: boto3 in c:\\users\\sahil mor\\appdata\\local\\programs\\python\\python39\\lib\\site-packages (1.17.54)\n",
      "Collecting botocore<1.21.0,>=1.20.54\n",
      "  Using cached botocore-1.20.54-py2.py3-none-any.whl (7.4 MB)\n",
      "Requirement already satisfied: s3transfer<0.5.0,>=0.4.0 in c:\\users\\sahil mor\\appdata\\local\\programs\\python\\python39\\lib\\site-packages (from boto3) (0.4.0)\n",
      "Requirement already satisfied: jmespath<1.0.0,>=0.7.1 in c:\\users\\sahil mor\\appdata\\local\\programs\\python\\python39\\lib\\site-packages (from boto3) (0.10.0)\n",
      "Requirement already satisfied: python-dateutil<3.0.0,>=2.1 in c:\\users\\sahil mor\\appdata\\local\\programs\\python\\python39\\lib\\site-packages (from botocore<1.21.0,>=1.20.54->boto3) (2.8.1)\n",
      "Requirement already satisfied: urllib3<1.27,>=1.25.4 in c:\\users\\sahil mor\\appdata\\local\\programs\\python\\python39\\lib\\site-packages (from botocore<1.21.0,>=1.20.54->boto3) (1.26.2)\n",
      "Requirement already satisfied: six>=1.5 in c:\\users\\sahil mor\\appdata\\local\\programs\\python\\python39\\lib\\site-packages (from python-dateutil<3.0.0,>=2.1->botocore<1.21.0,>=1.20.54->boto3) (1.15.0)\n",
      "Installing collected packages: botocore\n",
      "  Attempting uninstall: botocore\n",
      "    Found existing installation: botocore 1.20.49\n",
      "    Uninstalling botocore-1.20.49:\n",
      "      Successfully uninstalled botocore-1.20.49\n",
      "Successfully installed botocore-1.20.54\n"
     ]
    },
    {
     "name": "stderr",
     "output_type": "stream",
     "text": [
      "ERROR: pip's dependency resolver does not currently take into account all the packages that are installed. This behaviour is the source of the following dependency conflicts.\n",
      "aiobotocore 1.3.0 requires botocore<1.20.50,>=1.20.49, but you have botocore 1.20.54 which is incompatible.\n"
     ]
    }
   ],
   "source": [
    "!pip install boto3\n",
    "!pip install s3fs"
   ]
  },
  {
   "cell_type": "code",
   "execution_count": 1,
   "metadata": {},
   "outputs": [],
   "source": [
    "import boto3\n",
    "\n",
    "import pandas as pd"
   ]
  },
  {
   "cell_type": "code",
   "execution_count": 16,
   "metadata": {},
   "outputs": [],
   "source": [
    "s3 = boto3.resource(\n",
    "    service_name = 's3',\n",
    "    region_name = 'ap-south-1',\n",
    "    aws_secret_access_key= '',\n",
    "    aws_access_key_id = '',\n",
    ")"
   ]
  },
  {
   "cell_type": "code",
   "execution_count": 55,
   "metadata": {},
   "outputs": [
    {
     "name": "stdout",
     "output_type": "stream",
     "text": [
      "sahiljupytertest\n"
     ]
    }
   ],
   "source": [
    "# print out bucket\n",
    "for bucket in s3.buckets.all() :\n",
    "    print(bucket.name)\n",
    "    "
   ]
  },
  {
   "cell_type": "code",
   "execution_count": 33,
   "metadata": {},
   "outputs": [],
   "source": [
    "bucket_name = \"sahiljupytertest\""
   ]
  },
  {
   "cell_type": "code",
   "execution_count": 18,
   "metadata": {},
   "outputs": [],
   "source": [
    "# make dataframes\n",
    "foo = pd.DataFrame({ 'x' : [1,2,3] , 'y' : ['a','b','c'] })\n",
    "bar = pd.DataFrame({ 'x' : [10,20,30] , 'y' : ['aa','bb','cc'] })\n",
    "\n",
    "# save as csv to upload them on aws s3 bucket\n",
    "foo.to_csv('foo.csv')\n",
    "bar.to_csv('bar.csv')"
   ]
  },
  {
   "cell_type": "code",
   "execution_count": 56,
   "metadata": {},
   "outputs": [],
   "source": [
    "# upload file to s3 bucket\n",
    "s3.Bucket(bucket_name).upload_file(Filename='foo.csv',Key='foo.csv')\n",
    "s3.Bucket(bucket_name).upload_file(Filename='bar.csv',Key='bar.csv')"
   ]
  },
  {
   "cell_type": "code",
   "execution_count": 57,
   "metadata": {},
   "outputs": [
    {
     "name": "stdout",
     "output_type": "stream",
     "text": [
      "s3.ObjectSummary(bucket_name='sahiljupytertest', key='bar.csv')\n",
      "s3.ObjectSummary(bucket_name='sahiljupytertest', key='foo.csv')\n"
     ]
    }
   ],
   "source": [
    "# printing objects of bucket\n",
    "for obj in s3.Bucket(bucket_name).objects.all():\n",
    "    print(obj)"
   ]
  },
  {
   "cell_type": "code",
   "execution_count": 58,
   "metadata": {},
   "outputs": [
    {
     "name": "stdout",
     "output_type": "stream",
     "text": [
      "{'ResponseMetadata': {'RequestId': 'Y7AW9T0GV2A4MM4N', 'HostId': 'FdkLUZniGhPwAGEKngv8vdmeC8XL2JmD0Yq+1ENc4srX+7u621xEWyF463Us2ZHOgIZ+KZn8aDU=', 'HTTPStatusCode': 200, 'HTTPHeaders': {'x-amz-id-2': 'FdkLUZniGhPwAGEKngv8vdmeC8XL2JmD0Yq+1ENc4srX+7u621xEWyF463Us2ZHOgIZ+KZn8aDU=', 'x-amz-request-id': 'Y7AW9T0GV2A4MM4N', 'date': 'Tue, 20 Apr 2021 20:50:11 GMT', 'last-modified': 'Tue, 20 Apr 2021 20:49:53 GMT', 'etag': '\"4f37125c484e1008fe788b654bb63968\"', 'x-amz-version-id': 'LEPc9ZNUgTOFVp39OzJMtoC2fIbe6Dar', 'accept-ranges': 'bytes', 'content-type': 'binary/octet-stream', 'content-length': '27', 'server': 'AmazonS3'}, 'RetryAttempts': 0}, 'AcceptRanges': 'bytes', 'LastModified': datetime.datetime(2021, 4, 20, 20, 49, 53, tzinfo=tzutc()), 'ContentLength': 27, 'ETag': '\"4f37125c484e1008fe788b654bb63968\"', 'VersionId': 'LEPc9ZNUgTOFVp39OzJMtoC2fIbe6Dar', 'ContentType': 'binary/octet-stream', 'Metadata': {}, 'Body': <botocore.response.StreamingBody object at 0x000001BF44DF9850>}\n"
     ]
    }
   ],
   "source": [
    "# load csv file \n",
    "obj = s3.Bucket(bucket_name).Object('foo.csv').get()\n",
    "print(obj)\n"
   ]
  },
  {
   "cell_type": "code",
   "execution_count": 59,
   "metadata": {},
   "outputs": [
    {
     "data": {
      "text/html": [
       "<div>\n",
       "<style scoped>\n",
       "    .dataframe tbody tr th:only-of-type {\n",
       "        vertical-align: middle;\n",
       "    }\n",
       "\n",
       "    .dataframe tbody tr th {\n",
       "        vertical-align: top;\n",
       "    }\n",
       "\n",
       "    .dataframe thead th {\n",
       "        text-align: right;\n",
       "    }\n",
       "</style>\n",
       "<table border=\"1\" class=\"dataframe\">\n",
       "  <thead>\n",
       "    <tr style=\"text-align: right;\">\n",
       "      <th></th>\n",
       "      <th>x</th>\n",
       "      <th>y</th>\n",
       "    </tr>\n",
       "  </thead>\n",
       "  <tbody>\n",
       "    <tr>\n",
       "      <th>0</th>\n",
       "      <td>1</td>\n",
       "      <td>a</td>\n",
       "    </tr>\n",
       "    <tr>\n",
       "      <th>1</th>\n",
       "      <td>2</td>\n",
       "      <td>b</td>\n",
       "    </tr>\n",
       "    <tr>\n",
       "      <th>2</th>\n",
       "      <td>3</td>\n",
       "      <td>c</td>\n",
       "    </tr>\n",
       "  </tbody>\n",
       "</table>\n",
       "</div>"
      ],
      "text/plain": [
       "   x  y\n",
       "0  1  a\n",
       "1  2  b\n",
       "2  3  c"
      ]
     },
     "execution_count": 59,
     "metadata": {},
     "output_type": "execute_result"
    }
   ],
   "source": [
    "foo =  pd.read_csv(obj['Body'],index_col=0)\n",
    "foo"
   ]
  },
  {
   "cell_type": "code",
   "execution_count": 60,
   "metadata": {},
   "outputs": [
    {
     "name": "stdout",
     "output_type": "stream",
     "text": [
      "{'ResponseMetadata': {'RequestId': 'PDCJVN6MS0FMM02H', 'HostId': 'Q64z8XJlaPIsY4vLrXKfpe2GQtVSa9ROxXKNXb9X/ZIrLJQng7tLHkvookkiMznfeD4nj3YV+y4=', 'HTTPStatusCode': 200, 'HTTPHeaders': {'x-amz-id-2': 'Q64z8XJlaPIsY4vLrXKfpe2GQtVSa9ROxXKNXb9X/ZIrLJQng7tLHkvookkiMznfeD4nj3YV+y4=', 'x-amz-request-id': 'PDCJVN6MS0FMM02H', 'date': 'Tue, 20 Apr 2021 20:50:18 GMT', 'last-modified': 'Tue, 20 Apr 2021 20:49:53 GMT', 'etag': '\"29689882f588d02e307e2dd5f07ca741\"', 'x-amz-version-id': 'tn.O5CdIrKy3KF1qdDdQSu_DNxmcAfVa', 'accept-ranges': 'bytes', 'content-type': 'binary/octet-stream', 'content-length': '33', 'server': 'AmazonS3'}, 'RetryAttempts': 0}, 'AcceptRanges': 'bytes', 'LastModified': datetime.datetime(2021, 4, 20, 20, 49, 53, tzinfo=tzutc()), 'ContentLength': 33, 'ETag': '\"29689882f588d02e307e2dd5f07ca741\"', 'VersionId': 'tn.O5CdIrKy3KF1qdDdQSu_DNxmcAfVa', 'ContentType': 'binary/octet-stream', 'Metadata': {}, 'Body': <botocore.response.StreamingBody object at 0x000001BF44E38B80>}\n"
     ]
    }
   ],
   "source": [
    "# for bar\n",
    "\n",
    "obj2 = s3.Bucket(bucket_name).Object('bar.csv').get()\n",
    "print(obj2)\n"
   ]
  },
  {
   "cell_type": "code",
   "execution_count": 61,
   "metadata": {},
   "outputs": [
    {
     "data": {
      "text/html": [
       "<div>\n",
       "<style scoped>\n",
       "    .dataframe tbody tr th:only-of-type {\n",
       "        vertical-align: middle;\n",
       "    }\n",
       "\n",
       "    .dataframe tbody tr th {\n",
       "        vertical-align: top;\n",
       "    }\n",
       "\n",
       "    .dataframe thead th {\n",
       "        text-align: right;\n",
       "    }\n",
       "</style>\n",
       "<table border=\"1\" class=\"dataframe\">\n",
       "  <thead>\n",
       "    <tr style=\"text-align: right;\">\n",
       "      <th></th>\n",
       "      <th>x</th>\n",
       "      <th>y</th>\n",
       "    </tr>\n",
       "  </thead>\n",
       "  <tbody>\n",
       "    <tr>\n",
       "      <th>0</th>\n",
       "      <td>10</td>\n",
       "      <td>aa</td>\n",
       "    </tr>\n",
       "    <tr>\n",
       "      <th>1</th>\n",
       "      <td>20</td>\n",
       "      <td>bb</td>\n",
       "    </tr>\n",
       "    <tr>\n",
       "      <th>2</th>\n",
       "      <td>30</td>\n",
       "      <td>cc</td>\n",
       "    </tr>\n",
       "  </tbody>\n",
       "</table>\n",
       "</div>"
      ],
      "text/plain": [
       "    x   y\n",
       "0  10  aa\n",
       "1  20  bb\n",
       "2  30  cc"
      ]
     },
     "execution_count": 61,
     "metadata": {},
     "output_type": "execute_result"
    }
   ],
   "source": [
    "bar = pd.read_csv(obj2['Body'],index_col=0)\n",
    "bar"
   ]
  },
  {
   "cell_type": "code",
   "execution_count": 62,
   "metadata": {},
   "outputs": [],
   "source": [
    "# download file from aws\n",
    "s3.Bucket(bucket_name).download_file(Key='foo.csv',Filename='download_foo.csv')"
   ]
  },
  {
   "cell_type": "code",
   "execution_count": 63,
   "metadata": {},
   "outputs": [
    {
     "data": {
      "text/plain": [
       "s3.Bucket(name='bucketfromjupytersahiltestingitout')"
      ]
     },
     "execution_count": 63,
     "metadata": {},
     "output_type": "execute_result"
    }
   ],
   "source": [
    "# create bucket using boto3\n",
    "region_name='ap-south-1'\n",
    "new_bucket = 'bucketfromjupytersahiltestingitout' # please don't use uppercase in bucket name\n",
    "location = {'LocationConstraint': region_name}\n",
    "s3.create_bucket(Bucket=new_bucket, CreateBucketConfiguration=location)\n",
    "   "
   ]
  },
  {
   "cell_type": "code",
   "execution_count": 64,
   "metadata": {},
   "outputs": [
    {
     "data": {
      "text/plain": [
       "{'ResponseMetadata': {'RequestId': '6J6YF24F5DJ4T4PJ',\n",
       "  'HostId': 'IDqK5PMaNZGSjAzxrhAMSpslpOTLVWr68AiFFTRUUTABIT5SHw6QKqHDIAFDObHxZh6xwcAHcIA=',\n",
       "  'HTTPStatusCode': 204,\n",
       "  'HTTPHeaders': {'x-amz-id-2': 'IDqK5PMaNZGSjAzxrhAMSpslpOTLVWr68AiFFTRUUTABIT5SHw6QKqHDIAFDObHxZh6xwcAHcIA=',\n",
       "   'x-amz-request-id': '6J6YF24F5DJ4T4PJ',\n",
       "   'date': 'Tue, 20 Apr 2021 20:50:41 GMT',\n",
       "   'x-amz-version-id': 'j3tKL9Ru56JHk9hamceU44pf_y6UG.Xo',\n",
       "   'x-amz-delete-marker': 'true',\n",
       "   'server': 'AmazonS3'},\n",
       "  'RetryAttempts': 0},\n",
       " 'DeleteMarker': True,\n",
       " 'VersionId': 'j3tKL9Ru56JHk9hamceU44pf_y6UG.Xo'}"
      ]
     },
     "execution_count": 64,
     "metadata": {},
     "output_type": "execute_result"
    }
   ],
   "source": [
    "#  delete bar file from bucket(earlier one)\n",
    "\n",
    "s3.Bucket(bucket_name).Object('bar.csv').delete()"
   ]
  },
  {
   "cell_type": "code",
   "execution_count": 65,
   "metadata": {},
   "outputs": [
    {
     "data": {
      "text/plain": [
       "{'ResponseMetadata': {'RequestId': 'WE70C2K08S55H76A',\n",
       "  'HostId': 'LOiYG0Bw/FrdR47eT08nDkG4hjvuTrXFVvk3rmrEKhh7s1UcBfrpo46KiDhPHUU6Wb1e9gXlXCA=',\n",
       "  'HTTPStatusCode': 204,\n",
       "  'HTTPHeaders': {'x-amz-id-2': 'LOiYG0Bw/FrdR47eT08nDkG4hjvuTrXFVvk3rmrEKhh7s1UcBfrpo46KiDhPHUU6Wb1e9gXlXCA=',\n",
       "   'x-amz-request-id': 'WE70C2K08S55H76A',\n",
       "   'date': 'Tue, 20 Apr 2021 20:50:57 GMT',\n",
       "   'server': 'AmazonS3'},\n",
       "  'RetryAttempts': 0}}"
      ]
     },
     "execution_count": 65,
     "metadata": {},
     "output_type": "execute_result"
    }
   ],
   "source": [
    "# delete new bucket we created\n",
    "\n",
    "for key in s3.Bucket(new_bucket).objects.all():\n",
    "    key.delete()\n",
    "\n",
    "s3.Bucket(new_bucket).delete()"
   ]
  }
 ],
 "metadata": {
  "kernelspec": {
   "display_name": "Python 3",
   "language": "python",
   "name": "python3"
  },
  "language_info": {
   "codemirror_mode": {
    "name": "ipython",
    "version": 3
   },
   "file_extension": ".py",
   "mimetype": "text/x-python",
   "name": "python",
   "nbconvert_exporter": "python",
   "pygments_lexer": "ipython3",
   "version": "3.9.2"
  }
 },
 "nbformat": 4,
 "nbformat_minor": 4
}
